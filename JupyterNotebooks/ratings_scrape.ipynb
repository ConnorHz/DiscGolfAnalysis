{
 "metadata": {
  "language_info": {
   "codemirror_mode": {
    "name": "ipython",
    "version": 3
   },
   "file_extension": ".py",
   "mimetype": "text/x-python",
   "name": "python",
   "nbconvert_exporter": "python",
   "pygments_lexer": "ipython3",
   "version": "3.6.12-final"
  },
  "orig_nbformat": 2,
  "kernelspec": {
   "name": "python3",
   "display_name": "Python 3"
  }
 },
 "nbformat": 4,
 "nbformat_minor": 2,
 "cells": [
  {
   "cell_type": "code",
   "execution_count": 28,
   "metadata": {},
   "outputs": [],
   "source": [
    "from bs4 import BeautifulSoup\n",
    "import requests as req\n",
    "import pandas as pd"
   ]
  },
  {
   "cell_type": "code",
   "execution_count": 29,
   "metadata": {},
   "outputs": [
    {
     "output_type": "execute_result",
     "data": {
      "text/plain": [
       "  Name      Brand          Category   Stability  Speed  Glide  Turn  Fade  \\\n",
       "0   CD  Discmania  Distance Drivers  Overstable   10.0    4.8  -0.9   2.0   \n",
       "1  CD3  Discmania  Distance Drivers  Overstable   10.9    5.0  -1.0   2.1   \n",
       "2   DD  Discmania  Distance Drivers  Overstable   11.1    4.9   0.0   2.1   \n",
       "3  DD2  Discmania  Distance Drivers     Neutral   12.9    4.9  -2.0   2.0   \n",
       "4  DD3  Discmania  Distance Drivers  Overstable   12.0    5.0  -1.0   3.0   \n",
       "\n",
       "                                               URL  \\\n",
       "0     https://infinitediscs.com/Discmania-CD-Craze   \n",
       "1          https://infinitediscs.com/Discmania-CD3   \n",
       "2  https://infinitediscs.com/Discmania-DD-Hysteria   \n",
       "3   https://infinitediscs.com/Discmania-DD2-Frenzy   \n",
       "4          https://infinitediscs.com/Discmania-DD3   \n",
       "\n",
       "                                        ThumbnailURL  \n",
       "0  https://infinitediscs.com/Inf_Uploads/Disc_Ima...  \n",
       "1  https://infinitediscs.com/Inf_Uploads/Disc_Ima...  \n",
       "2  https://infinitediscs.com/Inf_Uploads/Disc_Ima...  \n",
       "3  https://infinitediscs.com/Inf_Uploads/Disc_Ima...  \n",
       "4  https://infinitediscs.com/Inf_Uploads/Disc_Ima...  "
      ],
      "text/html": "<div>\n<style scoped>\n    .dataframe tbody tr th:only-of-type {\n        vertical-align: middle;\n    }\n\n    .dataframe tbody tr th {\n        vertical-align: top;\n    }\n\n    .dataframe thead th {\n        text-align: right;\n    }\n</style>\n<table border=\"1\" class=\"dataframe\">\n  <thead>\n    <tr style=\"text-align: right;\">\n      <th></th>\n      <th>Name</th>\n      <th>Brand</th>\n      <th>Category</th>\n      <th>Stability</th>\n      <th>Speed</th>\n      <th>Glide</th>\n      <th>Turn</th>\n      <th>Fade</th>\n      <th>URL</th>\n      <th>ThumbnailURL</th>\n    </tr>\n  </thead>\n  <tbody>\n    <tr>\n      <th>0</th>\n      <td>CD</td>\n      <td>Discmania</td>\n      <td>Distance Drivers</td>\n      <td>Overstable</td>\n      <td>10.0</td>\n      <td>4.8</td>\n      <td>-0.9</td>\n      <td>2.0</td>\n      <td>https://infinitediscs.com/Discmania-CD-Craze</td>\n      <td>https://infinitediscs.com/Inf_Uploads/Disc_Ima...</td>\n    </tr>\n    <tr>\n      <th>1</th>\n      <td>CD3</td>\n      <td>Discmania</td>\n      <td>Distance Drivers</td>\n      <td>Overstable</td>\n      <td>10.9</td>\n      <td>5.0</td>\n      <td>-1.0</td>\n      <td>2.1</td>\n      <td>https://infinitediscs.com/Discmania-CD3</td>\n      <td>https://infinitediscs.com/Inf_Uploads/Disc_Ima...</td>\n    </tr>\n    <tr>\n      <th>2</th>\n      <td>DD</td>\n      <td>Discmania</td>\n      <td>Distance Drivers</td>\n      <td>Overstable</td>\n      <td>11.1</td>\n      <td>4.9</td>\n      <td>0.0</td>\n      <td>2.1</td>\n      <td>https://infinitediscs.com/Discmania-DD-Hysteria</td>\n      <td>https://infinitediscs.com/Inf_Uploads/Disc_Ima...</td>\n    </tr>\n    <tr>\n      <th>3</th>\n      <td>DD2</td>\n      <td>Discmania</td>\n      <td>Distance Drivers</td>\n      <td>Neutral</td>\n      <td>12.9</td>\n      <td>4.9</td>\n      <td>-2.0</td>\n      <td>2.0</td>\n      <td>https://infinitediscs.com/Discmania-DD2-Frenzy</td>\n      <td>https://infinitediscs.com/Inf_Uploads/Disc_Ima...</td>\n    </tr>\n    <tr>\n      <th>4</th>\n      <td>DD3</td>\n      <td>Discmania</td>\n      <td>Distance Drivers</td>\n      <td>Overstable</td>\n      <td>12.0</td>\n      <td>5.0</td>\n      <td>-1.0</td>\n      <td>3.0</td>\n      <td>https://infinitediscs.com/Discmania-DD3</td>\n      <td>https://infinitediscs.com/Inf_Uploads/Disc_Ima...</td>\n    </tr>\n  </tbody>\n</table>\n</div>"
     },
     "metadata": {},
     "execution_count": 29
    }
   ],
   "source": [
    "discs = pd.read_csv(\"../Resources/TopBrandDiscs.csv\")\n",
    "discs.head()"
   ]
  },
  {
   "cell_type": "code",
   "execution_count": 7,
   "metadata": {},
   "outputs": [],
   "source": [
    "row = discs.iloc[0]\n",
    "\n",
    "source_home = req.get(row.URL).text\n",
    "\n",
    "soup = BeautifulSoup(source_home, 'lxml')"
   ]
  },
  {
   "cell_type": "code",
   "execution_count": 21,
   "metadata": {},
   "outputs": [
    {
     "output_type": "stream",
     "name": "stdout",
     "text": [
      "4.33\n12\n"
     ]
    }
   ],
   "source": [
    "ratings_text = soup.find('p', id='ContentPlaceHolder1_ratingDatail').text.split(\" \")\n",
    "average_rating = ratings_text[0]\n",
    "total_ratings = ''.join(e for e in ratings_text[-1] if e.isalnum())\n",
    "\n",
    "discs.iloc[0][\"total_ratings\"] = total_ratings\n",
    "\n",
    "print(average_rating)\n",
    "print(total_ratings)"
   ]
  },
  {
   "cell_type": "code",
   "execution_count": 24,
   "metadata": {},
   "outputs": [],
   "source": []
  },
  {
   "cell_type": "code",
   "execution_count": 30,
   "metadata": {},
   "outputs": [
    {
     "output_type": "execute_result",
     "data": {
      "text/plain": [
       "  Name      Brand          Category   Stability  Speed  Glide  Turn  Fade  \\\n",
       "0   CD  Discmania  Distance Drivers  Overstable   10.0    4.8  -0.9   2.0   \n",
       "1  CD3  Discmania  Distance Drivers  Overstable   10.9    5.0  -1.0   2.1   \n",
       "2   DD  Discmania  Distance Drivers  Overstable   11.1    4.9   0.0   2.1   \n",
       "3  DD2  Discmania  Distance Drivers     Neutral   12.9    4.9  -2.0   2.0   \n",
       "4  DD3  Discmania  Distance Drivers  Overstable   12.0    5.0  -1.0   3.0   \n",
       "\n",
       "                                               URL  \\\n",
       "0     https://infinitediscs.com/Discmania-CD-Craze   \n",
       "1          https://infinitediscs.com/Discmania-CD3   \n",
       "2  https://infinitediscs.com/Discmania-DD-Hysteria   \n",
       "3   https://infinitediscs.com/Discmania-DD2-Frenzy   \n",
       "4          https://infinitediscs.com/Discmania-DD3   \n",
       "\n",
       "                                        ThumbnailURL total_ratings  \\\n",
       "0  https://infinitediscs.com/Inf_Uploads/Disc_Ima...            12   \n",
       "1  https://infinitediscs.com/Inf_Uploads/Disc_Ima...            21   \n",
       "2  https://infinitediscs.com/Inf_Uploads/Disc_Ima...            26   \n",
       "3  https://infinitediscs.com/Inf_Uploads/Disc_Ima...            22   \n",
       "4  https://infinitediscs.com/Inf_Uploads/Disc_Ima...            24   \n",
       "\n",
       "  average_rating  \n",
       "0           4.33  \n",
       "1           4.24  \n",
       "2           4.54  \n",
       "3           3.91  \n",
       "4           4.71  "
      ],
      "text/html": "<div>\n<style scoped>\n    .dataframe tbody tr th:only-of-type {\n        vertical-align: middle;\n    }\n\n    .dataframe tbody tr th {\n        vertical-align: top;\n    }\n\n    .dataframe thead th {\n        text-align: right;\n    }\n</style>\n<table border=\"1\" class=\"dataframe\">\n  <thead>\n    <tr style=\"text-align: right;\">\n      <th></th>\n      <th>Name</th>\n      <th>Brand</th>\n      <th>Category</th>\n      <th>Stability</th>\n      <th>Speed</th>\n      <th>Glide</th>\n      <th>Turn</th>\n      <th>Fade</th>\n      <th>URL</th>\n      <th>ThumbnailURL</th>\n      <th>total_ratings</th>\n      <th>average_rating</th>\n    </tr>\n  </thead>\n  <tbody>\n    <tr>\n      <th>0</th>\n      <td>CD</td>\n      <td>Discmania</td>\n      <td>Distance Drivers</td>\n      <td>Overstable</td>\n      <td>10.0</td>\n      <td>4.8</td>\n      <td>-0.9</td>\n      <td>2.0</td>\n      <td>https://infinitediscs.com/Discmania-CD-Craze</td>\n      <td>https://infinitediscs.com/Inf_Uploads/Disc_Ima...</td>\n      <td>12</td>\n      <td>4.33</td>\n    </tr>\n    <tr>\n      <th>1</th>\n      <td>CD3</td>\n      <td>Discmania</td>\n      <td>Distance Drivers</td>\n      <td>Overstable</td>\n      <td>10.9</td>\n      <td>5.0</td>\n      <td>-1.0</td>\n      <td>2.1</td>\n      <td>https://infinitediscs.com/Discmania-CD3</td>\n      <td>https://infinitediscs.com/Inf_Uploads/Disc_Ima...</td>\n      <td>21</td>\n      <td>4.24</td>\n    </tr>\n    <tr>\n      <th>2</th>\n      <td>DD</td>\n      <td>Discmania</td>\n      <td>Distance Drivers</td>\n      <td>Overstable</td>\n      <td>11.1</td>\n      <td>4.9</td>\n      <td>0.0</td>\n      <td>2.1</td>\n      <td>https://infinitediscs.com/Discmania-DD-Hysteria</td>\n      <td>https://infinitediscs.com/Inf_Uploads/Disc_Ima...</td>\n      <td>26</td>\n      <td>4.54</td>\n    </tr>\n    <tr>\n      <th>3</th>\n      <td>DD2</td>\n      <td>Discmania</td>\n      <td>Distance Drivers</td>\n      <td>Neutral</td>\n      <td>12.9</td>\n      <td>4.9</td>\n      <td>-2.0</td>\n      <td>2.0</td>\n      <td>https://infinitediscs.com/Discmania-DD2-Frenzy</td>\n      <td>https://infinitediscs.com/Inf_Uploads/Disc_Ima...</td>\n      <td>22</td>\n      <td>3.91</td>\n    </tr>\n    <tr>\n      <th>4</th>\n      <td>DD3</td>\n      <td>Discmania</td>\n      <td>Distance Drivers</td>\n      <td>Overstable</td>\n      <td>12.0</td>\n      <td>5.0</td>\n      <td>-1.0</td>\n      <td>3.0</td>\n      <td>https://infinitediscs.com/Discmania-DD3</td>\n      <td>https://infinitediscs.com/Inf_Uploads/Disc_Ima...</td>\n      <td>24</td>\n      <td>4.71</td>\n    </tr>\n  </tbody>\n</table>\n</div>"
     },
     "metadata": {},
     "execution_count": 30
    }
   ],
   "source": [
    "for i, row in discs.iterrows():\n",
    "    source = req.get(row.URL).text\n",
    "    soup = BeautifulSoup(source, 'lxml')\n",
    "    result = soup.find('p', id='ContentPlaceHolder1_ratingDatail')\n",
    "\n",
    "    if result:\n",
    "        ratings_text = result.text.split(\" \")\n",
    "        average_rating = ratings_text[0]\n",
    "        total_ratings = ''.join(e for e in ratings_text[-1] if e.isalnum())\n",
    "        discs.at[i, \"total_ratings\"] = total_ratings\n",
    "        discs.at[i, \"average_rating\"] = average_rating\n",
    "\n",
    "discs.head()"
   ]
  },
  {
   "cell_type": "code",
   "execution_count": 31,
   "metadata": {},
   "outputs": [],
   "source": [
    "discs.to_csv(\"../Resources/TopBrandDiscRatings.csv\", index=False)"
   ]
  }
 ]
}