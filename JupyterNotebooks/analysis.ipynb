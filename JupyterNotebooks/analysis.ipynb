{
 "metadata": {
  "language_info": {
   "codemirror_mode": {
    "name": "ipython",
    "version": 3
   },
   "file_extension": ".py",
   "mimetype": "text/x-python",
   "name": "python",
   "nbconvert_exporter": "python",
   "pygments_lexer": "ipython3",
   "version": "3.8.3-final"
  },
  "orig_nbformat": 2,
  "kernelspec": {
   "name": "python3",
   "display_name": "Python 3",
   "language": "python"
  }
 },
 "nbformat": 4,
 "nbformat_minor": 2,
 "cells": [
  {
   "cell_type": "code",
   "execution_count": 1,
   "metadata": {},
   "outputs": [],
   "source": [
    "import pandas as pd\n",
    "import matplotlib.pyplot as plt\n",
    "from math import floor, ceil\n",
    "\n",
    "flight_ratings = ['Speed', 'Glide', 'Turn', 'Fade']"
   ]
  },
  {
   "cell_type": "code",
   "execution_count": 2,
   "metadata": {},
   "outputs": [],
   "source": [
    "discs = pd.read_csv(\"../Resources/TopBrandDiscRatings.csv\")\n",
    "\n",
    "flight_ratings = pd.DataFrame(flight_ratings, columns=['rating'])\n",
    "\n",
    "for i, row in flight_ratings.iterrows():\n",
    "    flight_ratings.at[i, \"min\"] = floor(discs[row.rating].min())\n",
    "    flight_ratings.at[i, \"max\"] = ceil(discs[row.rating].max())\n",
    "\n",
    "field = \"Stability\"\n",
    "stability_order = ['Very Understable', 'Understable', 'Neutral', 'Overstable', 'Very Overstable']"
   ]
  },
  {
   "cell_type": "code",
   "execution_count": 5,
   "metadata": {},
   "outputs": [
    {
     "output_type": "display_data",
     "data": {
      "text/plain": "<Figure size 432x288 with 0 Axes>"
     },
     "metadata": {}
    }
   ],
   "source": [
    "for b in discs[discs.Brand != 'Discmania'].Brand.unique():\n",
    "    brand_discs = discs[discs.Brand == b]\n",
    "\n",
    "    for i, row in flight_ratings.iterrows():\n",
    "\n",
    "        x_min = floor(row['min'])\n",
    "        x_max = ceil(row['max']) + 1\n",
    "\n",
    "        plt.scatter(brand_discs[row.rating], brand_discs.total_ratings, c='#ed1c23')\n",
    "        plt.xticks(range(x_min, x_max, 1))\n",
    "        plt.title(f\"Total Reviews vs. {row.rating.title()}\")\n",
    "        plt.xlabel(f\"{row.rating.title()} Rating\")\n",
    "        plt.ylabel(\"Total Reviews\")\n",
    "        plt.savefig(f\"../Images/{b.lower()}_totalReviews_{row.rating.lower()}.svg\")\n",
    "        plt.clf()"
   ]
  },
  {
   "cell_type": "code",
   "execution_count": 68,
   "metadata": {},
   "outputs": [
    {
     "output_type": "display_data",
     "data": {
      "text/plain": "<Figure size 432x288 with 0 Axes>"
     },
     "metadata": {}
    }
   ],
   "source": [
    "for b in discs[discs.Brand != 'Discmania'].Brand.unique():\n",
    "    brand_discs = discs[discs.Brand == b]\n",
    "\n",
    "    for i, row in flight_ratings.iterrows():\n",
    "\n",
    "        x_min = floor(row['min'])\n",
    "        x_max = ceil(row['max']) + 1\n",
    "\n",
    "        plt.scatter(brand_discs[row.rating], brand_discs.average_rating, c='#ed1c23')\n",
    "        plt.xticks(range(x_min, x_max, 1))\n",
    "        plt.title(f\"\")\n",
    "        plt.xlabel(f\"{row.rating.title()} Rating\")\n",
    "        plt.ylabel(\"Average Review Rating\")\n",
    "        plt.savefig(f\"../Images/{b.lower()}_averageReviews_{row.rating.lower()}.svg\")\n",
    "        plt.clf()"
   ]
  },
  {
   "cell_type": "code",
   "execution_count": 71,
   "metadata": {},
   "outputs": [
    {
     "output_type": "display_data",
     "data": {
      "text/plain": "<Figure size 432x288 with 0 Axes>"
     },
     "metadata": {}
    }
   ],
   "source": [
    "for b in discs[discs.Brand != 'Discmania'].Brand.unique():\n",
    "    brand_discs = discs[discs.Brand == b]\n",
    "\n",
    "    for i, row in flight_ratings.iterrows():\n",
    "\n",
    "        x_min = floor(row['min'])\n",
    "        x_max = ceil(row['max']) + 1\n",
    "\n",
    "        plt.bar(brand_discs[row.rating], brand_discs.total_ratings)\n",
    "        plt.xticks(range(x_min, x_max, 1))\n",
    "        plt.title(f\"\")\n",
    "        plt.xlabel(f\"{row.rating.title()} Rating\")\n",
    "        plt.ylabel(\"Total Reviews\")\n",
    "        plt.savefig(f\"../Images/bar_{b.lower()}_totalReviews_{row.rating.lower()}.png\")\n",
    "        plt.clf()"
   ]
  },
  {
   "cell_type": "code",
   "execution_count": 11,
   "metadata": {},
   "outputs": [],
   "source": [
    "\n",
    "discs[discs.Brand != 'Discmania'][['Name', 'Brand', 'Category', 'Stability', 'Speed', 'Glide', 'Turn', 'Fade', 'total_ratings', 'average_rating']].to_html(\"./table.html\", index=False)"
   ]
  }
 ]
}