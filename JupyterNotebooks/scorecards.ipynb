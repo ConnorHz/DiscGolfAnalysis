{
 "metadata": {
  "language_info": {
   "codemirror_mode": {
    "name": "ipython",
    "version": 3
   },
   "file_extension": ".py",
   "mimetype": "text/x-python",
   "name": "python",
   "nbconvert_exporter": "python",
   "pygments_lexer": "ipython3",
   "version": "3.6.12"
  },
  "orig_nbformat": 2,
  "kernelspec": {
   "name": "python3612jvsc74a57bd0e57531418cede83176d6306d8a2a41509ac84cb7ab9032a7b9512fecf0cd72d5",
   "display_name": "Python 3.6.12 64-bit ('PythonData': conda)"
  }
 },
 "nbformat": 4,
 "nbformat_minor": 2,
 "cells": [
  {
   "cell_type": "code",
   "execution_count": 67,
   "metadata": {},
   "outputs": [],
   "source": [
    "from pymongo import MongoClient\n",
    "from datetime import datetime as dt\n",
    "import pandas as pd\n",
    "from math import isnan\n",
    "from config import DB_HOST, DB_PASSWORD, DB_USERNAME"
   ]
  },
  {
   "cell_type": "code",
   "execution_count": 114,
   "metadata": {},
   "outputs": [],
   "source": [
    "def get_score(throws, par):\n",
    "    score = int(throws - par)\n",
    "\n",
    "    if throws == 1:\n",
    "        score_name = \"Ace\"\n",
    "        return score, score_name\n",
    "    \n",
    "    if score == -3:\n",
    "        score_name = \"Albatross\"\n",
    "        return score, score_name\n",
    "\n",
    "    if score == -2:\n",
    "        score_name = \"Eagle\"\n",
    "        return score, score_name\n",
    "\n",
    "    if score == -1:\n",
    "        score_name = \"Birdie\"\n",
    "        return score, score_name\n",
    "\n",
    "    if score == 0:\n",
    "        score_name = \"Par\"\n",
    "        return score, score_name\n",
    "\n",
    "    if score == 1:\n",
    "        score_name = \"Bogey\"\n",
    "        return score, score_name\n",
    "\n",
    "    if score == 2:\n",
    "        score_name = \"Double Bogey\"\n",
    "        return score, score_name\n",
    "\n",
    "    if score == 3:\n",
    "        score_name = \"Triple Bogey\"\n",
    "        return score, score_name\n",
    "\n",
    "    if score >= 4:\n",
    "        score_name = \"4+\"\n",
    "        return score, score_name\n"
   ]
  },
  {
   "cell_type": "code",
   "execution_count": 2,
   "metadata": {},
   "outputs": [],
   "source": [
    "mongo = MongoClient(f\"mongodb+srv://{DB_USERNAME}:{DB_PASSWORD}@{DB_HOST}/disc_golf?retryWrites=true&w=majority\")"
   ]
  },
  {
   "cell_type": "code",
   "execution_count": 17,
   "metadata": {},
   "outputs": [],
   "source": [
    "courses = list(mongo[\"disc_golf\"][\"courses\"].find({\"udisc_name\": {\"$regex\": \".*\"}}))"
   ]
  },
  {
   "cell_type": "code",
   "execution_count": 59,
   "metadata": {},
   "outputs": [],
   "source": [
    "df = pd.read_csv(\"../Resources/UdiscScorecards.csv\")\n",
    "df = df[df['PlayerName'] != 'Par']"
   ]
  },
  {
   "cell_type": "code",
   "execution_count": 60,
   "metadata": {},
   "outputs": [],
   "source": [
    "course_round = df.merge(pd.DataFrame(courses), how=\"inner\", left_on=\"CourseName\", right_on=\"udisc_name\")"
   ]
  },
  {
   "cell_type": "code",
   "execution_count": 88,
   "metadata": {},
   "outputs": [],
   "source": [
    "holes = [f\"Hole{h}\" for h in range(19)[1:]]\n",
    "melted_scores = pd.melt(df.rename(columns={\"+/-\":\"Par\"}), id_vars=[\"PlayerName\", \"CourseName\", \"LayoutName\", \"Date\"], value_vars=holes, var_name=\"Hole\", value_name=\"Throws\")"
   ]
  },
  {
   "cell_type": "code",
   "execution_count": 89,
   "metadata": {},
   "outputs": [],
   "source": [
    "melted_scores[\"Hole\"] = [int(h.replace(\"Hole\", \"\")) for h in melted_scores[\"Hole\"]]\n",
    "\n",
    "clean_melted_scores = melted_scores.dropna()"
   ]
  },
  {
   "cell_type": "code",
   "execution_count": 90,
   "metadata": {},
   "outputs": [
    {
     "output_type": "execute_result",
     "data": {
      "text/plain": [
       "         PlayerName              CourseName              LayoutName  \\\n",
       "0          ConnorHz         Silverview Park           2017 Redesign   \n",
       "1    Spenser Barton         Silverview Park           2017 Redesign   \n",
       "2          ConnorHz             Hansen Park      New 14 Hole Layout   \n",
       "3    Spenser Barton             Hansen Park      New 14 Hole Layout   \n",
       "4          ConnorHz         Silverview Park           2017 Redesign   \n",
       "..              ...                     ...                     ...   \n",
       "410        ConnorHz              Acorn Park  Long Tees Long Baskets   \n",
       "419        ConnorHz          Lakewood Hills                    Main   \n",
       "431        ConnorHz  Elm Creek Park Reserve                    Main   \n",
       "435        ConnorHz              Acorn Park  Long Tees Long Baskets   \n",
       "444        ConnorHz          Lakewood Hills                    Main   \n",
       "\n",
       "                 Date  Hole  Throws  \n",
       "0    2021-05-31 14:56     1     4.0  \n",
       "1    2021-05-31 14:56     1     4.0  \n",
       "2    2021-05-31 13:30     1     4.0  \n",
       "3    2021-05-31 13:30     1     5.0  \n",
       "4    2021-05-30 18:28     1     3.0  \n",
       "..                ...   ...     ...  \n",
       "410  2021-05-17 17:54    17     4.0  \n",
       "419  2021-04-25 08:48    17     4.0  \n",
       "431  2021-05-29 08:11    18     5.0  \n",
       "435  2021-05-17 17:54    18     5.0  \n",
       "444  2021-04-25 08:48    18     3.0  \n",
       "\n",
       "[281 rows x 6 columns]"
      ],
      "text/html": "<div>\n<style scoped>\n    .dataframe tbody tr th:only-of-type {\n        vertical-align: middle;\n    }\n\n    .dataframe tbody tr th {\n        vertical-align: top;\n    }\n\n    .dataframe thead th {\n        text-align: right;\n    }\n</style>\n<table border=\"1\" class=\"dataframe\">\n  <thead>\n    <tr style=\"text-align: right;\">\n      <th></th>\n      <th>PlayerName</th>\n      <th>CourseName</th>\n      <th>LayoutName</th>\n      <th>Date</th>\n      <th>Hole</th>\n      <th>Throws</th>\n    </tr>\n  </thead>\n  <tbody>\n    <tr>\n      <th>0</th>\n      <td>ConnorHz</td>\n      <td>Silverview Park</td>\n      <td>2017 Redesign</td>\n      <td>2021-05-31 14:56</td>\n      <td>1</td>\n      <td>4.0</td>\n    </tr>\n    <tr>\n      <th>1</th>\n      <td>Spenser Barton</td>\n      <td>Silverview Park</td>\n      <td>2017 Redesign</td>\n      <td>2021-05-31 14:56</td>\n      <td>1</td>\n      <td>4.0</td>\n    </tr>\n    <tr>\n      <th>2</th>\n      <td>ConnorHz</td>\n      <td>Hansen Park</td>\n      <td>New 14 Hole Layout</td>\n      <td>2021-05-31 13:30</td>\n      <td>1</td>\n      <td>4.0</td>\n    </tr>\n    <tr>\n      <th>3</th>\n      <td>Spenser Barton</td>\n      <td>Hansen Park</td>\n      <td>New 14 Hole Layout</td>\n      <td>2021-05-31 13:30</td>\n      <td>1</td>\n      <td>5.0</td>\n    </tr>\n    <tr>\n      <th>4</th>\n      <td>ConnorHz</td>\n      <td>Silverview Park</td>\n      <td>2017 Redesign</td>\n      <td>2021-05-30 18:28</td>\n      <td>1</td>\n      <td>3.0</td>\n    </tr>\n    <tr>\n      <th>...</th>\n      <td>...</td>\n      <td>...</td>\n      <td>...</td>\n      <td>...</td>\n      <td>...</td>\n      <td>...</td>\n    </tr>\n    <tr>\n      <th>410</th>\n      <td>ConnorHz</td>\n      <td>Acorn Park</td>\n      <td>Long Tees Long Baskets</td>\n      <td>2021-05-17 17:54</td>\n      <td>17</td>\n      <td>4.0</td>\n    </tr>\n    <tr>\n      <th>419</th>\n      <td>ConnorHz</td>\n      <td>Lakewood Hills</td>\n      <td>Main</td>\n      <td>2021-04-25 08:48</td>\n      <td>17</td>\n      <td>4.0</td>\n    </tr>\n    <tr>\n      <th>431</th>\n      <td>ConnorHz</td>\n      <td>Elm Creek Park Reserve</td>\n      <td>Main</td>\n      <td>2021-05-29 08:11</td>\n      <td>18</td>\n      <td>5.0</td>\n    </tr>\n    <tr>\n      <th>435</th>\n      <td>ConnorHz</td>\n      <td>Acorn Park</td>\n      <td>Long Tees Long Baskets</td>\n      <td>2021-05-17 17:54</td>\n      <td>18</td>\n      <td>5.0</td>\n    </tr>\n    <tr>\n      <th>444</th>\n      <td>ConnorHz</td>\n      <td>Lakewood Hills</td>\n      <td>Main</td>\n      <td>2021-04-25 08:48</td>\n      <td>18</td>\n      <td>3.0</td>\n    </tr>\n  </tbody>\n</table>\n<p>281 rows × 6 columns</p>\n</div>"
     },
     "metadata": {},
     "execution_count": 90
    }
   ],
   "source": [
    "clean_melted_scores"
   ]
  },
  {
   "cell_type": "code",
   "execution_count": 98,
   "metadata": {},
   "outputs": [
    {
     "output_type": "execute_result",
     "data": {
      "text/plain": [
       "             CourseName     LayoutName  Hole  Par  Distance\n",
       "0    Bassett Creek Park  2015 Redesign     1    3       249\n",
       "1    Bassett Creek Park  2015 Redesign     2    3       125\n",
       "2    Bassett Creek Park  2015 Redesign     3    3       233\n",
       "3    Bassett Creek Park  2015 Redesign     4    3       194\n",
       "4    Bassett Creek Park  2015 Redesign     5    4       463\n",
       "..                  ...            ...   ...  ...       ...\n",
       "100     Silverview Park  2017 Redesign     5    3       266\n",
       "101     Silverview Park  2017 Redesign     6    3       174\n",
       "102     Silverview Park  2017 Redesign     7    3       190\n",
       "103     Silverview Park  2017 Redesign     8    4       259\n",
       "104     Silverview Park  2017 Redesign     9    4       259\n",
       "\n",
       "[105 rows x 5 columns]"
      ],
      "text/html": "<div>\n<style scoped>\n    .dataframe tbody tr th:only-of-type {\n        vertical-align: middle;\n    }\n\n    .dataframe tbody tr th {\n        vertical-align: top;\n    }\n\n    .dataframe thead th {\n        text-align: right;\n    }\n</style>\n<table border=\"1\" class=\"dataframe\">\n  <thead>\n    <tr style=\"text-align: right;\">\n      <th></th>\n      <th>CourseName</th>\n      <th>LayoutName</th>\n      <th>Hole</th>\n      <th>Par</th>\n      <th>Distance</th>\n    </tr>\n  </thead>\n  <tbody>\n    <tr>\n      <th>0</th>\n      <td>Bassett Creek Park</td>\n      <td>2015 Redesign</td>\n      <td>1</td>\n      <td>3</td>\n      <td>249</td>\n    </tr>\n    <tr>\n      <th>1</th>\n      <td>Bassett Creek Park</td>\n      <td>2015 Redesign</td>\n      <td>2</td>\n      <td>3</td>\n      <td>125</td>\n    </tr>\n    <tr>\n      <th>2</th>\n      <td>Bassett Creek Park</td>\n      <td>2015 Redesign</td>\n      <td>3</td>\n      <td>3</td>\n      <td>233</td>\n    </tr>\n    <tr>\n      <th>3</th>\n      <td>Bassett Creek Park</td>\n      <td>2015 Redesign</td>\n      <td>4</td>\n      <td>3</td>\n      <td>194</td>\n    </tr>\n    <tr>\n      <th>4</th>\n      <td>Bassett Creek Park</td>\n      <td>2015 Redesign</td>\n      <td>5</td>\n      <td>4</td>\n      <td>463</td>\n    </tr>\n    <tr>\n      <th>...</th>\n      <td>...</td>\n      <td>...</td>\n      <td>...</td>\n      <td>...</td>\n      <td>...</td>\n    </tr>\n    <tr>\n      <th>100</th>\n      <td>Silverview Park</td>\n      <td>2017 Redesign</td>\n      <td>5</td>\n      <td>3</td>\n      <td>266</td>\n    </tr>\n    <tr>\n      <th>101</th>\n      <td>Silverview Park</td>\n      <td>2017 Redesign</td>\n      <td>6</td>\n      <td>3</td>\n      <td>174</td>\n    </tr>\n    <tr>\n      <th>102</th>\n      <td>Silverview Park</td>\n      <td>2017 Redesign</td>\n      <td>7</td>\n      <td>3</td>\n      <td>190</td>\n    </tr>\n    <tr>\n      <th>103</th>\n      <td>Silverview Park</td>\n      <td>2017 Redesign</td>\n      <td>8</td>\n      <td>4</td>\n      <td>259</td>\n    </tr>\n    <tr>\n      <th>104</th>\n      <td>Silverview Park</td>\n      <td>2017 Redesign</td>\n      <td>9</td>\n      <td>4</td>\n      <td>259</td>\n    </tr>\n  </tbody>\n</table>\n<p>105 rows × 5 columns</p>\n</div>"
     },
     "metadata": {},
     "execution_count": 98
    }
   ],
   "source": [
    "udisc_courses = [{\"CourseName\": c[\"udisc_name\"], \"Layouts\": c[\"layouts\"]} for c in courses]\n",
    "udisc_course_layout_holes = []\n",
    "for uc in udisc_courses:\n",
    "    for l in uc[\"Layouts\"]:\n",
    "        for h in l[\"holes\"]:\n",
    "            udisc_course_layout_holes.append({\"CourseName\": uc[\"CourseName\"], \"LayoutName\": l[\"name\"], \"Hole\": h['hole'], \"Par\": h['par'], \"Distance\": h['distance']})\n",
    "\n",
    "pd.DataFrame(udisc_course_layout_holes)"
   ]
  },
  {
   "cell_type": "code",
   "execution_count": 115,
   "metadata": {},
   "outputs": [
    {
     "output_type": "execute_result",
     "data": {
      "text/plain": [
       "         PlayerName              CourseName              LayoutName  \\\n",
       "0          ConnorHz         Silverview Park           2017 Redesign   \n",
       "1    Spenser Barton         Silverview Park           2017 Redesign   \n",
       "2          ConnorHz         Silverview Park           2017 Redesign   \n",
       "3          ConnorHz         Silverview Park           2017 Redesign   \n",
       "4          ConnorHz         Silverview Park           2017 Redesign   \n",
       "..              ...                     ...                     ...   \n",
       "276        ConnorHz              Acorn Park  Long Tees Long Baskets   \n",
       "277        ConnorHz          Lakewood Hills                    Main   \n",
       "278        ConnorHz  Elm Creek Park Reserve                    Main   \n",
       "279        ConnorHz              Acorn Park  Long Tees Long Baskets   \n",
       "280        ConnorHz          Lakewood Hills                    Main   \n",
       "\n",
       "                 Date  Hole  Throws  Par  Distance  Score ScoreName  \n",
       "0    2021-05-31 14:56     1     4.0    3       157    1.0     Bogey  \n",
       "1    2021-05-31 14:56     1     4.0    3       157    1.0     Bogey  \n",
       "2    2021-05-30 18:28     1     3.0    3       157    0.0       Par  \n",
       "3    2021-05-30 18:03     1     3.0    3       157    0.0       Par  \n",
       "4    2021-05-07 08:02     1     3.0    3       157    0.0       Par  \n",
       "..                ...   ...     ...  ...       ...    ...       ...  \n",
       "276  2021-05-17 17:54    17     4.0    3       344    1.0     Bogey  \n",
       "277  2021-04-25 08:48    17     4.0    3       344    1.0     Bogey  \n",
       "278  2021-05-29 08:11    18     5.0    4       686    1.0     Bogey  \n",
       "279  2021-05-17 17:54    18     5.0    4       492    1.0     Bogey  \n",
       "280  2021-04-25 08:48    18     3.0    3       256    0.0       Par  \n",
       "\n",
       "[281 rows x 10 columns]"
      ],
      "text/html": "<div>\n<style scoped>\n    .dataframe tbody tr th:only-of-type {\n        vertical-align: middle;\n    }\n\n    .dataframe tbody tr th {\n        vertical-align: top;\n    }\n\n    .dataframe thead th {\n        text-align: right;\n    }\n</style>\n<table border=\"1\" class=\"dataframe\">\n  <thead>\n    <tr style=\"text-align: right;\">\n      <th></th>\n      <th>PlayerName</th>\n      <th>CourseName</th>\n      <th>LayoutName</th>\n      <th>Date</th>\n      <th>Hole</th>\n      <th>Throws</th>\n      <th>Par</th>\n      <th>Distance</th>\n      <th>Score</th>\n      <th>ScoreName</th>\n    </tr>\n  </thead>\n  <tbody>\n    <tr>\n      <th>0</th>\n      <td>ConnorHz</td>\n      <td>Silverview Park</td>\n      <td>2017 Redesign</td>\n      <td>2021-05-31 14:56</td>\n      <td>1</td>\n      <td>4.0</td>\n      <td>3</td>\n      <td>157</td>\n      <td>1.0</td>\n      <td>Bogey</td>\n    </tr>\n    <tr>\n      <th>1</th>\n      <td>Spenser Barton</td>\n      <td>Silverview Park</td>\n      <td>2017 Redesign</td>\n      <td>2021-05-31 14:56</td>\n      <td>1</td>\n      <td>4.0</td>\n      <td>3</td>\n      <td>157</td>\n      <td>1.0</td>\n      <td>Bogey</td>\n    </tr>\n    <tr>\n      <th>2</th>\n      <td>ConnorHz</td>\n      <td>Silverview Park</td>\n      <td>2017 Redesign</td>\n      <td>2021-05-30 18:28</td>\n      <td>1</td>\n      <td>3.0</td>\n      <td>3</td>\n      <td>157</td>\n      <td>0.0</td>\n      <td>Par</td>\n    </tr>\n    <tr>\n      <th>3</th>\n      <td>ConnorHz</td>\n      <td>Silverview Park</td>\n      <td>2017 Redesign</td>\n      <td>2021-05-30 18:03</td>\n      <td>1</td>\n      <td>3.0</td>\n      <td>3</td>\n      <td>157</td>\n      <td>0.0</td>\n      <td>Par</td>\n    </tr>\n    <tr>\n      <th>4</th>\n      <td>ConnorHz</td>\n      <td>Silverview Park</td>\n      <td>2017 Redesign</td>\n      <td>2021-05-07 08:02</td>\n      <td>1</td>\n      <td>3.0</td>\n      <td>3</td>\n      <td>157</td>\n      <td>0.0</td>\n      <td>Par</td>\n    </tr>\n    <tr>\n      <th>...</th>\n      <td>...</td>\n      <td>...</td>\n      <td>...</td>\n      <td>...</td>\n      <td>...</td>\n      <td>...</td>\n      <td>...</td>\n      <td>...</td>\n      <td>...</td>\n      <td>...</td>\n    </tr>\n    <tr>\n      <th>276</th>\n      <td>ConnorHz</td>\n      <td>Acorn Park</td>\n      <td>Long Tees Long Baskets</td>\n      <td>2021-05-17 17:54</td>\n      <td>17</td>\n      <td>4.0</td>\n      <td>3</td>\n      <td>344</td>\n      <td>1.0</td>\n      <td>Bogey</td>\n    </tr>\n    <tr>\n      <th>277</th>\n      <td>ConnorHz</td>\n      <td>Lakewood Hills</td>\n      <td>Main</td>\n      <td>2021-04-25 08:48</td>\n      <td>17</td>\n      <td>4.0</td>\n      <td>3</td>\n      <td>344</td>\n      <td>1.0</td>\n      <td>Bogey</td>\n    </tr>\n    <tr>\n      <th>278</th>\n      <td>ConnorHz</td>\n      <td>Elm Creek Park Reserve</td>\n      <td>Main</td>\n      <td>2021-05-29 08:11</td>\n      <td>18</td>\n      <td>5.0</td>\n      <td>4</td>\n      <td>686</td>\n      <td>1.0</td>\n      <td>Bogey</td>\n    </tr>\n    <tr>\n      <th>279</th>\n      <td>ConnorHz</td>\n      <td>Acorn Park</td>\n      <td>Long Tees Long Baskets</td>\n      <td>2021-05-17 17:54</td>\n      <td>18</td>\n      <td>5.0</td>\n      <td>4</td>\n      <td>492</td>\n      <td>1.0</td>\n      <td>Bogey</td>\n    </tr>\n    <tr>\n      <th>280</th>\n      <td>ConnorHz</td>\n      <td>Lakewood Hills</td>\n      <td>Main</td>\n      <td>2021-04-25 08:48</td>\n      <td>18</td>\n      <td>3.0</td>\n      <td>3</td>\n      <td>256</td>\n      <td>0.0</td>\n      <td>Par</td>\n    </tr>\n  </tbody>\n</table>\n<p>281 rows × 10 columns</p>\n</div>"
     },
     "metadata": {},
     "execution_count": 115
    }
   ],
   "source": [
    "merged_clean_melted_scores = clean_melted_scores.merge(pd.DataFrame(udisc_course_layout_holes), on=[\"CourseName\", \"LayoutName\", \"Hole\"], how=\"inner\")\n",
    "\n",
    "merged_clean_melted_scores[\"Score\"] = pd.DataFrame(merged_clean_melted_scores.apply(lambda row: get_score(row[\"Throws\"], row[\"Par\"]),axis=1))\n",
    "\n",
    "merged_clean_melted_scores[['Score', 'ScoreName']] = pd.DataFrame(merged_clean_melted_scores['Score'].tolist(), index=merged_clean_melted_scores.index)\n",
    "\n",
    "merged_clean_melted_scores"
   ]
  },
  {
   "cell_type": "code",
   "execution_count": 61,
   "metadata": {},
   "outputs": [
    {
     "output_type": "execute_result",
     "data": {
      "text/plain": [
       "        PlayerName                      CourseName              LayoutName  \\\n",
       "1         ConnorHz                 Silverview Park           2017 Redesign   \n",
       "2   Spenser Barton                 Silverview Park           2017 Redesign   \n",
       "4         ConnorHz                     Hansen Park      New 14 Hole Layout   \n",
       "5   Spenser Barton                     Hansen Park      New 14 Hole Layout   \n",
       "7         ConnorHz                 Silverview Park           2017 Redesign   \n",
       "9         ConnorHz                 Silverview Park           2017 Redesign   \n",
       "11        ConnorHz          Elm Creek Park Reserve                    Main   \n",
       "13        ConnorHz              Bassett Creek Park           2015 Redesign   \n",
       "15        ConnorHz  Riverfront 13 Disc Golf Course  Blue (mixed locations)   \n",
       "17        ConnorHz                     Hansen Park      New 14 Hole Layout   \n",
       "19        ConnorHz                      Acorn Park  Long Tees Long Baskets   \n",
       "21        ConnorHz                 Silverview Park           2017 Redesign   \n",
       "23        ConnorHz                 Silverview Park           2017 Redesign   \n",
       "25        ConnorHz                 Silverview Park           2017 Redesign   \n",
       "27        ConnorHz                 Silverview Park           2017 Redesign   \n",
       "29        ConnorHz                 Silverview Park           2017 Redesign   \n",
       "31        ConnorHz                 Silverview Park           2017 Redesign   \n",
       "33        ConnorHz                 Silverview Park           2017 Redesign   \n",
       "35        ConnorHz                 Silverview Park           2017 Redesign   \n",
       "37        ConnorHz                  Lakewood Hills                    Main   \n",
       "39        ConnorHz  Riverfront 13 Disc Golf Course  Blue (mixed locations)   \n",
       "41        ConnorHz                 Silverview Park           2017 Redesign   \n",
       "43        ConnorHz                 Silverview Park           2017 Redesign   \n",
       "45        ConnorHz                 Silverview Park           2017 Redesign   \n",
       "47        ConnorHz                 Silverview Park           2017 Redesign   \n",
       "\n",
       "                Date  Total   +/-  Hole1  Hole2  Hole3  Hole4  ...  Hole9  \\\n",
       "1   2021-05-31 14:56     31   1.0      4      2      3      5  ...      3   \n",
       "2   2021-05-31 14:56     36   6.0      4      3      3      5  ...      5   \n",
       "4   2021-05-31 13:30     50   8.0      4      4      4      5  ...      2   \n",
       "5   2021-05-31 13:30     63  21.0      5      5      5      6  ...      4   \n",
       "7   2021-05-30 18:28     31   1.0      3      2      4      4  ...      5   \n",
       "9   2021-05-30 18:03     31   1.0      3      2      2      4  ...      4   \n",
       "11  2021-05-29 08:11     74  18.0      5      4      4      4  ...      4   \n",
       "13  2021-05-25 18:30     52   6.0      4      4      3      4  ...      3   \n",
       "15  2021-05-23 09:59     47   7.0      3      4      3      4  ...      3   \n",
       "17  2021-05-23 08:33     50   8.0      4      5      4      4  ...      2   \n",
       "19  2021-05-17 17:54     69  10.0      4      3      5      6  ...      3   \n",
       "21  2021-05-07 08:02     31   1.0      3      3      4      4  ...      4   \n",
       "23  2021-05-05 08:21     31   1.0      4      3      4      5  ...      3   \n",
       "25  2021-05-05 07:54     28  -2.0      3      3      2      4  ...      3   \n",
       "27  2021-05-04 18:10     23  -3.0      3      3      3      0  ...      3   \n",
       "29  2021-05-02 09:47     27  -3.0      2      2      3      4  ...      4   \n",
       "31  2021-05-02 09:18     31   1.0      3      5      3      3  ...      4   \n",
       "33  2021-04-30 08:13     33   3.0      3      3      3      5  ...      4   \n",
       "35  2021-04-25 10:41     33   3.0      4      2      3      4  ...      5   \n",
       "37  2021-04-25 08:48     70  13.0      3      5      6      3  ...      3   \n",
       "39  2021-04-20 17:43     21   2.0      4      3      3      4  ...      0   \n",
       "41  2021-04-20 08:15     33   3.0      3      3      3      3  ...      4   \n",
       "43  2021-04-20 07:48     34   4.0      4      3      3      3  ...      4   \n",
       "45  2021-04-18 10:10     30   0.0      2      3      3      5  ...      3   \n",
       "47  2021-04-18 09:43     29  -1.0      3      3      3      3  ...      4   \n",
       "\n",
       "    Hole10  Hole11  Hole12  Hole13  Hole14  Hole15  Hole16  Hole17  Hole18  \n",
       "1      NaN     NaN     NaN     NaN     NaN     NaN     NaN     NaN     NaN  \n",
       "2      NaN     NaN     NaN     NaN     NaN     NaN     NaN     NaN     NaN  \n",
       "4      4.0     3.0     3.0     4.0     4.0     NaN     NaN     NaN     NaN  \n",
       "5      5.0     4.0     4.0     4.0     4.0     NaN     NaN     NaN     NaN  \n",
       "7      NaN     NaN     NaN     NaN     NaN     NaN     NaN     NaN     NaN  \n",
       "9      NaN     NaN     NaN     NaN     NaN     NaN     NaN     NaN     NaN  \n",
       "11     4.0     4.0     5.0     3.0     6.0     3.0     4.0     3.0     5.0  \n",
       "13     4.0     3.0     4.0     3.0     4.0     3.0     NaN     NaN     NaN  \n",
       "15     3.0     3.0     3.0     5.0     NaN     NaN     NaN     NaN     NaN  \n",
       "17     3.0     4.0     3.0     4.0     4.0     NaN     NaN     NaN     NaN  \n",
       "19     4.0     3.0     3.0     2.0     3.0     4.0     5.0     4.0     5.0  \n",
       "21     NaN     NaN     NaN     NaN     NaN     NaN     NaN     NaN     NaN  \n",
       "23     NaN     NaN     NaN     NaN     NaN     NaN     NaN     NaN     NaN  \n",
       "25     NaN     NaN     NaN     NaN     NaN     NaN     NaN     NaN     NaN  \n",
       "27     NaN     NaN     NaN     NaN     NaN     NaN     NaN     NaN     NaN  \n",
       "29     NaN     NaN     NaN     NaN     NaN     NaN     NaN     NaN     NaN  \n",
       "31     NaN     NaN     NaN     NaN     NaN     NaN     NaN     NaN     NaN  \n",
       "33     NaN     NaN     NaN     NaN     NaN     NaN     NaN     NaN     NaN  \n",
       "35     NaN     NaN     NaN     NaN     NaN     NaN     NaN     NaN     NaN  \n",
       "37     6.0     4.0     3.0     3.0     3.0     3.0     4.0     4.0     3.0  \n",
       "39     0.0     0.0     0.0     0.0     NaN     NaN     NaN     NaN     NaN  \n",
       "41     NaN     NaN     NaN     NaN     NaN     NaN     NaN     NaN     NaN  \n",
       "43     NaN     NaN     NaN     NaN     NaN     NaN     NaN     NaN     NaN  \n",
       "45     NaN     NaN     NaN     NaN     NaN     NaN     NaN     NaN     NaN  \n",
       "47     NaN     NaN     NaN     NaN     NaN     NaN     NaN     NaN     NaN  \n",
       "\n",
       "[25 rows x 24 columns]"
      ],
      "text/html": "<div>\n<style scoped>\n    .dataframe tbody tr th:only-of-type {\n        vertical-align: middle;\n    }\n\n    .dataframe tbody tr th {\n        vertical-align: top;\n    }\n\n    .dataframe thead th {\n        text-align: right;\n    }\n</style>\n<table border=\"1\" class=\"dataframe\">\n  <thead>\n    <tr style=\"text-align: right;\">\n      <th></th>\n      <th>PlayerName</th>\n      <th>CourseName</th>\n      <th>LayoutName</th>\n      <th>Date</th>\n      <th>Total</th>\n      <th>+/-</th>\n      <th>Hole1</th>\n      <th>Hole2</th>\n      <th>Hole3</th>\n      <th>Hole4</th>\n      <th>...</th>\n      <th>Hole9</th>\n      <th>Hole10</th>\n      <th>Hole11</th>\n      <th>Hole12</th>\n      <th>Hole13</th>\n      <th>Hole14</th>\n      <th>Hole15</th>\n      <th>Hole16</th>\n      <th>Hole17</th>\n      <th>Hole18</th>\n    </tr>\n  </thead>\n  <tbody>\n    <tr>\n      <th>1</th>\n      <td>ConnorHz</td>\n      <td>Silverview Park</td>\n      <td>2017 Redesign</td>\n      <td>2021-05-31 14:56</td>\n      <td>31</td>\n      <td>1.0</td>\n      <td>4</td>\n      <td>2</td>\n      <td>3</td>\n      <td>5</td>\n      <td>...</td>\n      <td>3</td>\n      <td>NaN</td>\n      <td>NaN</td>\n      <td>NaN</td>\n      <td>NaN</td>\n      <td>NaN</td>\n      <td>NaN</td>\n      <td>NaN</td>\n      <td>NaN</td>\n      <td>NaN</td>\n    </tr>\n    <tr>\n      <th>2</th>\n      <td>Spenser Barton</td>\n      <td>Silverview Park</td>\n      <td>2017 Redesign</td>\n      <td>2021-05-31 14:56</td>\n      <td>36</td>\n      <td>6.0</td>\n      <td>4</td>\n      <td>3</td>\n      <td>3</td>\n      <td>5</td>\n      <td>...</td>\n      <td>5</td>\n      <td>NaN</td>\n      <td>NaN</td>\n      <td>NaN</td>\n      <td>NaN</td>\n      <td>NaN</td>\n      <td>NaN</td>\n      <td>NaN</td>\n      <td>NaN</td>\n      <td>NaN</td>\n    </tr>\n    <tr>\n      <th>4</th>\n      <td>ConnorHz</td>\n      <td>Hansen Park</td>\n      <td>New 14 Hole Layout</td>\n      <td>2021-05-31 13:30</td>\n      <td>50</td>\n      <td>8.0</td>\n      <td>4</td>\n      <td>4</td>\n      <td>4</td>\n      <td>5</td>\n      <td>...</td>\n      <td>2</td>\n      <td>4.0</td>\n      <td>3.0</td>\n      <td>3.0</td>\n      <td>4.0</td>\n      <td>4.0</td>\n      <td>NaN</td>\n      <td>NaN</td>\n      <td>NaN</td>\n      <td>NaN</td>\n    </tr>\n    <tr>\n      <th>5</th>\n      <td>Spenser Barton</td>\n      <td>Hansen Park</td>\n      <td>New 14 Hole Layout</td>\n      <td>2021-05-31 13:30</td>\n      <td>63</td>\n      <td>21.0</td>\n      <td>5</td>\n      <td>5</td>\n      <td>5</td>\n      <td>6</td>\n      <td>...</td>\n      <td>4</td>\n      <td>5.0</td>\n      <td>4.0</td>\n      <td>4.0</td>\n      <td>4.0</td>\n      <td>4.0</td>\n      <td>NaN</td>\n      <td>NaN</td>\n      <td>NaN</td>\n      <td>NaN</td>\n    </tr>\n    <tr>\n      <th>7</th>\n      <td>ConnorHz</td>\n      <td>Silverview Park</td>\n      <td>2017 Redesign</td>\n      <td>2021-05-30 18:28</td>\n      <td>31</td>\n      <td>1.0</td>\n      <td>3</td>\n      <td>2</td>\n      <td>4</td>\n      <td>4</td>\n      <td>...</td>\n      <td>5</td>\n      <td>NaN</td>\n      <td>NaN</td>\n      <td>NaN</td>\n      <td>NaN</td>\n      <td>NaN</td>\n      <td>NaN</td>\n      <td>NaN</td>\n      <td>NaN</td>\n      <td>NaN</td>\n    </tr>\n    <tr>\n      <th>9</th>\n      <td>ConnorHz</td>\n      <td>Silverview Park</td>\n      <td>2017 Redesign</td>\n      <td>2021-05-30 18:03</td>\n      <td>31</td>\n      <td>1.0</td>\n      <td>3</td>\n      <td>2</td>\n      <td>2</td>\n      <td>4</td>\n      <td>...</td>\n      <td>4</td>\n      <td>NaN</td>\n      <td>NaN</td>\n      <td>NaN</td>\n      <td>NaN</td>\n      <td>NaN</td>\n      <td>NaN</td>\n      <td>NaN</td>\n      <td>NaN</td>\n      <td>NaN</td>\n    </tr>\n    <tr>\n      <th>11</th>\n      <td>ConnorHz</td>\n      <td>Elm Creek Park Reserve</td>\n      <td>Main</td>\n      <td>2021-05-29 08:11</td>\n      <td>74</td>\n      <td>18.0</td>\n      <td>5</td>\n      <td>4</td>\n      <td>4</td>\n      <td>4</td>\n      <td>...</td>\n      <td>4</td>\n      <td>4.0</td>\n      <td>4.0</td>\n      <td>5.0</td>\n      <td>3.0</td>\n      <td>6.0</td>\n      <td>3.0</td>\n      <td>4.0</td>\n      <td>3.0</td>\n      <td>5.0</td>\n    </tr>\n    <tr>\n      <th>13</th>\n      <td>ConnorHz</td>\n      <td>Bassett Creek Park</td>\n      <td>2015 Redesign</td>\n      <td>2021-05-25 18:30</td>\n      <td>52</td>\n      <td>6.0</td>\n      <td>4</td>\n      <td>4</td>\n      <td>3</td>\n      <td>4</td>\n      <td>...</td>\n      <td>3</td>\n      <td>4.0</td>\n      <td>3.0</td>\n      <td>4.0</td>\n      <td>3.0</td>\n      <td>4.0</td>\n      <td>3.0</td>\n      <td>NaN</td>\n      <td>NaN</td>\n      <td>NaN</td>\n    </tr>\n    <tr>\n      <th>15</th>\n      <td>ConnorHz</td>\n      <td>Riverfront 13 Disc Golf Course</td>\n      <td>Blue (mixed locations)</td>\n      <td>2021-05-23 09:59</td>\n      <td>47</td>\n      <td>7.0</td>\n      <td>3</td>\n      <td>4</td>\n      <td>3</td>\n      <td>4</td>\n      <td>...</td>\n      <td>3</td>\n      <td>3.0</td>\n      <td>3.0</td>\n      <td>3.0</td>\n      <td>5.0</td>\n      <td>NaN</td>\n      <td>NaN</td>\n      <td>NaN</td>\n      <td>NaN</td>\n      <td>NaN</td>\n    </tr>\n    <tr>\n      <th>17</th>\n      <td>ConnorHz</td>\n      <td>Hansen Park</td>\n      <td>New 14 Hole Layout</td>\n      <td>2021-05-23 08:33</td>\n      <td>50</td>\n      <td>8.0</td>\n      <td>4</td>\n      <td>5</td>\n      <td>4</td>\n      <td>4</td>\n      <td>...</td>\n      <td>2</td>\n      <td>3.0</td>\n      <td>4.0</td>\n      <td>3.0</td>\n      <td>4.0</td>\n      <td>4.0</td>\n      <td>NaN</td>\n      <td>NaN</td>\n      <td>NaN</td>\n      <td>NaN</td>\n    </tr>\n    <tr>\n      <th>19</th>\n      <td>ConnorHz</td>\n      <td>Acorn Park</td>\n      <td>Long Tees Long Baskets</td>\n      <td>2021-05-17 17:54</td>\n      <td>69</td>\n      <td>10.0</td>\n      <td>4</td>\n      <td>3</td>\n      <td>5</td>\n      <td>6</td>\n      <td>...</td>\n      <td>3</td>\n      <td>4.0</td>\n      <td>3.0</td>\n      <td>3.0</td>\n      <td>2.0</td>\n      <td>3.0</td>\n      <td>4.0</td>\n      <td>5.0</td>\n      <td>4.0</td>\n      <td>5.0</td>\n    </tr>\n    <tr>\n      <th>21</th>\n      <td>ConnorHz</td>\n      <td>Silverview Park</td>\n      <td>2017 Redesign</td>\n      <td>2021-05-07 08:02</td>\n      <td>31</td>\n      <td>1.0</td>\n      <td>3</td>\n      <td>3</td>\n      <td>4</td>\n      <td>4</td>\n      <td>...</td>\n      <td>4</td>\n      <td>NaN</td>\n      <td>NaN</td>\n      <td>NaN</td>\n      <td>NaN</td>\n      <td>NaN</td>\n      <td>NaN</td>\n      <td>NaN</td>\n      <td>NaN</td>\n      <td>NaN</td>\n    </tr>\n    <tr>\n      <th>23</th>\n      <td>ConnorHz</td>\n      <td>Silverview Park</td>\n      <td>2017 Redesign</td>\n      <td>2021-05-05 08:21</td>\n      <td>31</td>\n      <td>1.0</td>\n      <td>4</td>\n      <td>3</td>\n      <td>4</td>\n      <td>5</td>\n      <td>...</td>\n      <td>3</td>\n      <td>NaN</td>\n      <td>NaN</td>\n      <td>NaN</td>\n      <td>NaN</td>\n      <td>NaN</td>\n      <td>NaN</td>\n      <td>NaN</td>\n      <td>NaN</td>\n      <td>NaN</td>\n    </tr>\n    <tr>\n      <th>25</th>\n      <td>ConnorHz</td>\n      <td>Silverview Park</td>\n      <td>2017 Redesign</td>\n      <td>2021-05-05 07:54</td>\n      <td>28</td>\n      <td>-2.0</td>\n      <td>3</td>\n      <td>3</td>\n      <td>2</td>\n      <td>4</td>\n      <td>...</td>\n      <td>3</td>\n      <td>NaN</td>\n      <td>NaN</td>\n      <td>NaN</td>\n      <td>NaN</td>\n      <td>NaN</td>\n      <td>NaN</td>\n      <td>NaN</td>\n      <td>NaN</td>\n      <td>NaN</td>\n    </tr>\n    <tr>\n      <th>27</th>\n      <td>ConnorHz</td>\n      <td>Silverview Park</td>\n      <td>2017 Redesign</td>\n      <td>2021-05-04 18:10</td>\n      <td>23</td>\n      <td>-3.0</td>\n      <td>3</td>\n      <td>3</td>\n      <td>3</td>\n      <td>0</td>\n      <td>...</td>\n      <td>3</td>\n      <td>NaN</td>\n      <td>NaN</td>\n      <td>NaN</td>\n      <td>NaN</td>\n      <td>NaN</td>\n      <td>NaN</td>\n      <td>NaN</td>\n      <td>NaN</td>\n      <td>NaN</td>\n    </tr>\n    <tr>\n      <th>29</th>\n      <td>ConnorHz</td>\n      <td>Silverview Park</td>\n      <td>2017 Redesign</td>\n      <td>2021-05-02 09:47</td>\n      <td>27</td>\n      <td>-3.0</td>\n      <td>2</td>\n      <td>2</td>\n      <td>3</td>\n      <td>4</td>\n      <td>...</td>\n      <td>4</td>\n      <td>NaN</td>\n      <td>NaN</td>\n      <td>NaN</td>\n      <td>NaN</td>\n      <td>NaN</td>\n      <td>NaN</td>\n      <td>NaN</td>\n      <td>NaN</td>\n      <td>NaN</td>\n    </tr>\n    <tr>\n      <th>31</th>\n      <td>ConnorHz</td>\n      <td>Silverview Park</td>\n      <td>2017 Redesign</td>\n      <td>2021-05-02 09:18</td>\n      <td>31</td>\n      <td>1.0</td>\n      <td>3</td>\n      <td>5</td>\n      <td>3</td>\n      <td>3</td>\n      <td>...</td>\n      <td>4</td>\n      <td>NaN</td>\n      <td>NaN</td>\n      <td>NaN</td>\n      <td>NaN</td>\n      <td>NaN</td>\n      <td>NaN</td>\n      <td>NaN</td>\n      <td>NaN</td>\n      <td>NaN</td>\n    </tr>\n    <tr>\n      <th>33</th>\n      <td>ConnorHz</td>\n      <td>Silverview Park</td>\n      <td>2017 Redesign</td>\n      <td>2021-04-30 08:13</td>\n      <td>33</td>\n      <td>3.0</td>\n      <td>3</td>\n      <td>3</td>\n      <td>3</td>\n      <td>5</td>\n      <td>...</td>\n      <td>4</td>\n      <td>NaN</td>\n      <td>NaN</td>\n      <td>NaN</td>\n      <td>NaN</td>\n      <td>NaN</td>\n      <td>NaN</td>\n      <td>NaN</td>\n      <td>NaN</td>\n      <td>NaN</td>\n    </tr>\n    <tr>\n      <th>35</th>\n      <td>ConnorHz</td>\n      <td>Silverview Park</td>\n      <td>2017 Redesign</td>\n      <td>2021-04-25 10:41</td>\n      <td>33</td>\n      <td>3.0</td>\n      <td>4</td>\n      <td>2</td>\n      <td>3</td>\n      <td>4</td>\n      <td>...</td>\n      <td>5</td>\n      <td>NaN</td>\n      <td>NaN</td>\n      <td>NaN</td>\n      <td>NaN</td>\n      <td>NaN</td>\n      <td>NaN</td>\n      <td>NaN</td>\n      <td>NaN</td>\n      <td>NaN</td>\n    </tr>\n    <tr>\n      <th>37</th>\n      <td>ConnorHz</td>\n      <td>Lakewood Hills</td>\n      <td>Main</td>\n      <td>2021-04-25 08:48</td>\n      <td>70</td>\n      <td>13.0</td>\n      <td>3</td>\n      <td>5</td>\n      <td>6</td>\n      <td>3</td>\n      <td>...</td>\n      <td>3</td>\n      <td>6.0</td>\n      <td>4.0</td>\n      <td>3.0</td>\n      <td>3.0</td>\n      <td>3.0</td>\n      <td>3.0</td>\n      <td>4.0</td>\n      <td>4.0</td>\n      <td>3.0</td>\n    </tr>\n    <tr>\n      <th>39</th>\n      <td>ConnorHz</td>\n      <td>Riverfront 13 Disc Golf Course</td>\n      <td>Blue (mixed locations)</td>\n      <td>2021-04-20 17:43</td>\n      <td>21</td>\n      <td>2.0</td>\n      <td>4</td>\n      <td>3</td>\n      <td>3</td>\n      <td>4</td>\n      <td>...</td>\n      <td>0</td>\n      <td>0.0</td>\n      <td>0.0</td>\n      <td>0.0</td>\n      <td>0.0</td>\n      <td>NaN</td>\n      <td>NaN</td>\n      <td>NaN</td>\n      <td>NaN</td>\n      <td>NaN</td>\n    </tr>\n    <tr>\n      <th>41</th>\n      <td>ConnorHz</td>\n      <td>Silverview Park</td>\n      <td>2017 Redesign</td>\n      <td>2021-04-20 08:15</td>\n      <td>33</td>\n      <td>3.0</td>\n      <td>3</td>\n      <td>3</td>\n      <td>3</td>\n      <td>3</td>\n      <td>...</td>\n      <td>4</td>\n      <td>NaN</td>\n      <td>NaN</td>\n      <td>NaN</td>\n      <td>NaN</td>\n      <td>NaN</td>\n      <td>NaN</td>\n      <td>NaN</td>\n      <td>NaN</td>\n      <td>NaN</td>\n    </tr>\n    <tr>\n      <th>43</th>\n      <td>ConnorHz</td>\n      <td>Silverview Park</td>\n      <td>2017 Redesign</td>\n      <td>2021-04-20 07:48</td>\n      <td>34</td>\n      <td>4.0</td>\n      <td>4</td>\n      <td>3</td>\n      <td>3</td>\n      <td>3</td>\n      <td>...</td>\n      <td>4</td>\n      <td>NaN</td>\n      <td>NaN</td>\n      <td>NaN</td>\n      <td>NaN</td>\n      <td>NaN</td>\n      <td>NaN</td>\n      <td>NaN</td>\n      <td>NaN</td>\n      <td>NaN</td>\n    </tr>\n    <tr>\n      <th>45</th>\n      <td>ConnorHz</td>\n      <td>Silverview Park</td>\n      <td>2017 Redesign</td>\n      <td>2021-04-18 10:10</td>\n      <td>30</td>\n      <td>0.0</td>\n      <td>2</td>\n      <td>3</td>\n      <td>3</td>\n      <td>5</td>\n      <td>...</td>\n      <td>3</td>\n      <td>NaN</td>\n      <td>NaN</td>\n      <td>NaN</td>\n      <td>NaN</td>\n      <td>NaN</td>\n      <td>NaN</td>\n      <td>NaN</td>\n      <td>NaN</td>\n      <td>NaN</td>\n    </tr>\n    <tr>\n      <th>47</th>\n      <td>ConnorHz</td>\n      <td>Silverview Park</td>\n      <td>2017 Redesign</td>\n      <td>2021-04-18 09:43</td>\n      <td>29</td>\n      <td>-1.0</td>\n      <td>3</td>\n      <td>3</td>\n      <td>3</td>\n      <td>3</td>\n      <td>...</td>\n      <td>4</td>\n      <td>NaN</td>\n      <td>NaN</td>\n      <td>NaN</td>\n      <td>NaN</td>\n      <td>NaN</td>\n      <td>NaN</td>\n      <td>NaN</td>\n      <td>NaN</td>\n      <td>NaN</td>\n    </tr>\n  </tbody>\n</table>\n<p>25 rows × 24 columns</p>\n</div>"
     },
     "metadata": {},
     "execution_count": 61
    }
   ],
   "source": [
    "mongo[\"disc_golf\"]['rounds'].insert_many(df.rename(columns={\"+/-\":\"Par\"}).to_dict(orient=\"records\"))\n"
   ]
  }
 ]
}